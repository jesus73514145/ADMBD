{
  "nbformat": 4,
  "nbformat_minor": 0,
  "metadata": {
    "colab": {
      "provenance": [],
      "collapsed_sections": [
        "_o1ebYj4GjyG",
        "IgDIoEo8Xs7N",
        "2cEDNTiVurDM",
        "ufEvoaqPut1X",
        "QFMxNjNvuvsT",
        "u_29lswHxXuR",
        "4gboMfDdxbtX",
        "_D1neiYlxeNT",
        "AW1vW7aGN9V_",
        "r4phDib3OAgA"
      ]
    },
    "kernelspec": {
      "name": "python3",
      "display_name": "Python 3"
    },
    "language_info": {
      "name": "python"
    }
  },
  "cells": [
    {
      "cell_type": "markdown",
      "source": [
        "# Paso 1: Subir el archivo CSV a Google Colab"
      ],
      "metadata": {
        "id": "ADEnAP6yEaQD"
      }
    },
    {
      "cell_type": "code",
      "source": [
        "from google.colab import files\n",
        "\n",
        "uploaded = files.upload()"
      ],
      "metadata": {
        "id": "tAmTLJsbEa4g"
      },
      "execution_count": null,
      "outputs": []
    },
    {
      "cell_type": "markdown",
      "source": [
        "# Paso 2: Leer el archivo CSV"
      ],
      "metadata": {
        "id": "vUguPCiTEgff"
      }
    },
    {
      "cell_type": "code",
      "source": [
        "import pandas as pd\n",
        "\n",
        "# Reemplaza 'your_file.csv' con el nombre de tu archivo\n",
        "df = pd.read_csv('usuarios.csv')"
      ],
      "metadata": {
        "id": "YRr3XtipEgnO"
      },
      "execution_count": null,
      "outputs": []
    },
    {
      "cell_type": "markdown",
      "source": [
        "# Paso 3: Convertir los datos a sentencias SQL INSERT INTO"
      ],
      "metadata": {
        "id": "4QqigVsGEqFs"
      }
    },
    {
      "cell_type": "code",
      "source": [
        "table_name = 'USUARIO'   # PONER EL NOMBRE DE LA TABLA PARA EL INSERT\n",
        "columns = ', '.join(df.columns)\n",
        "\n",
        "# Generar las sentencias SQL\n",
        "insert_statements = []\n",
        "for index, row in df.iterrows():\n",
        "    values = ', '.join([f\"'{x}'\" for x in row])\n",
        "    insert_statement = f\"INSERT INTO {table_name} ({columns}) VALUES ({values});\"\n",
        "    insert_statements.append(insert_statement)"
      ],
      "metadata": {
        "id": "NsrtlxM3EqQk"
      },
      "execution_count": null,
      "outputs": []
    },
    {
      "cell_type": "markdown",
      "source": [
        "# Paso 4: Exportar las sentencias SQL a un nuevo archivo CSV"
      ],
      "metadata": {
        "id": "8R8mBnbTEqdC"
      }
    },
    {
      "cell_type": "code",
      "source": [
        "import csv\n",
        "\n",
        "with open('insert_statements.csv', 'w', newline='') as file:\n",
        "    writer = csv.writer(file)\n",
        "    for statement in insert_statements:\n",
        "        writer.writerow([statement])\n",
        "\n",
        "# Descargar el archivo resultante\n",
        "files.download('insert_statements.csv')"
      ],
      "metadata": {
        "id": "vEuHClp5EqrT",
        "colab": {
          "base_uri": "https://localhost:8080/",
          "height": 17
        },
        "outputId": "63220fbf-95da-49dd-a0ea-9411f6446a13"
      },
      "execution_count": null,
      "outputs": [
        {
          "output_type": "display_data",
          "data": {
            "text/plain": [
              "<IPython.core.display.Javascript object>"
            ],
            "application/javascript": [
              "\n",
              "    async function download(id, filename, size) {\n",
              "      if (!google.colab.kernel.accessAllowed) {\n",
              "        return;\n",
              "      }\n",
              "      const div = document.createElement('div');\n",
              "      const label = document.createElement('label');\n",
              "      label.textContent = `Downloading \"${filename}\": `;\n",
              "      div.appendChild(label);\n",
              "      const progress = document.createElement('progress');\n",
              "      progress.max = size;\n",
              "      div.appendChild(progress);\n",
              "      document.body.appendChild(div);\n",
              "\n",
              "      const buffers = [];\n",
              "      let downloaded = 0;\n",
              "\n",
              "      const channel = await google.colab.kernel.comms.open(id);\n",
              "      // Send a message to notify the kernel that we're ready.\n",
              "      channel.send({})\n",
              "\n",
              "      for await (const message of channel.messages) {\n",
              "        // Send a message to notify the kernel that we're ready.\n",
              "        channel.send({})\n",
              "        if (message.buffers) {\n",
              "          for (const buffer of message.buffers) {\n",
              "            buffers.push(buffer);\n",
              "            downloaded += buffer.byteLength;\n",
              "            progress.value = downloaded;\n",
              "          }\n",
              "        }\n",
              "      }\n",
              "      const blob = new Blob(buffers, {type: 'application/binary'});\n",
              "      const a = document.createElement('a');\n",
              "      a.href = window.URL.createObjectURL(blob);\n",
              "      a.download = filename;\n",
              "      div.appendChild(a);\n",
              "      a.click();\n",
              "      div.remove();\n",
              "    }\n",
              "  "
            ]
          },
          "metadata": {}
        },
        {
          "output_type": "display_data",
          "data": {
            "text/plain": [
              "<IPython.core.display.Javascript object>"
            ],
            "application/javascript": [
              "download(\"download_5e08e44d-a756-4914-b3fa-ceab30dba351\", \"insert_statements.csv\", 256705)"
            ]
          },
          "metadata": {}
        }
      ]
    },
    {
      "cell_type": "markdown",
      "source": [
        "# CODIGO AJUSTADO PARA LA TABLA USUARIO.CSV"
      ],
      "metadata": {
        "id": "_o1ebYj4GjyG"
      }
    },
    {
      "cell_type": "code",
      "source": [
        "from google.colab import files\n",
        "import pandas as pd\n",
        "import csv\n",
        "\n",
        "\n",
        "# Paso 1: Leer el archivo CSV\n",
        "df = pd.read_csv('usuarios.csv')\n",
        "\n",
        "# Paso 2: Convertir los datos a sentencias SQL `INSERT INTO`\n",
        "table_name = 'USUARIO'\n",
        "columns = ', '.join(df.columns)\n",
        "\n",
        "insert_statements = []\n",
        "for index, row in df.iterrows():\n",
        "    values = []\n",
        "    for col in df.columns:\n",
        "        value = row[col]\n",
        "        if pd.isna(value):\n",
        "            value = 'NULL'\n",
        "        #elif col == 'ID_USUARIO':  # Si la columna es ID_USUARIO, poner el valor entre comillas\n",
        "        #    value = f\"'{value}'\"\n",
        "        elif pd.api.types.is_string_dtype(df[col]):\n",
        "            value = f\"'{value}'\"\n",
        "        elif pd.api.types.is_numeric_dtype(df[col]):\n",
        "            value = f\"'{value}'\"\n",
        "        elif pd.api.types.is_datetime64_any_dtype(df[col]):\n",
        "            value = f\"TO_DATE('{value}', 'YYYY-MM-DD')\"\n",
        "        else:\n",
        "            value = f\"'{value}'\"\n",
        "        values.append(value)\n",
        "    values_str = ', '.join(values)\n",
        "    insert_statement = f\"INSERT INTO {table_name} ({columns}) VALUES ({values_str});\"\n",
        "    insert_statements.append(insert_statement)\n",
        "\n",
        "# Paso 3: Exportar las sentencias SQL a un nuevo archivo CSV\n",
        "with open('insert_statements.csv', 'w', newline='') as file:\n",
        "    writer = csv.writer(file)\n",
        "    for statement in insert_statements:\n",
        "        writer.writerow([statement])\n",
        "\n",
        "# Descargar el archivo resultante\n",
        "files.download('insert_statements.csv')"
      ],
      "metadata": {
        "colab": {
          "base_uri": "https://localhost:8080/",
          "height": 17
        },
        "id": "lKPOx-AOGkHk",
        "outputId": "f8fe9610-dd05-4ba8-be9b-76bb10714844"
      },
      "execution_count": null,
      "outputs": [
        {
          "output_type": "display_data",
          "data": {
            "text/plain": [
              "<IPython.core.display.Javascript object>"
            ],
            "application/javascript": [
              "\n",
              "    async function download(id, filename, size) {\n",
              "      if (!google.colab.kernel.accessAllowed) {\n",
              "        return;\n",
              "      }\n",
              "      const div = document.createElement('div');\n",
              "      const label = document.createElement('label');\n",
              "      label.textContent = `Downloading \"${filename}\": `;\n",
              "      div.appendChild(label);\n",
              "      const progress = document.createElement('progress');\n",
              "      progress.max = size;\n",
              "      div.appendChild(progress);\n",
              "      document.body.appendChild(div);\n",
              "\n",
              "      const buffers = [];\n",
              "      let downloaded = 0;\n",
              "\n",
              "      const channel = await google.colab.kernel.comms.open(id);\n",
              "      // Send a message to notify the kernel that we're ready.\n",
              "      channel.send({})\n",
              "\n",
              "      for await (const message of channel.messages) {\n",
              "        // Send a message to notify the kernel that we're ready.\n",
              "        channel.send({})\n",
              "        if (message.buffers) {\n",
              "          for (const buffer of message.buffers) {\n",
              "            buffers.push(buffer);\n",
              "            downloaded += buffer.byteLength;\n",
              "            progress.value = downloaded;\n",
              "          }\n",
              "        }\n",
              "      }\n",
              "      const blob = new Blob(buffers, {type: 'application/binary'});\n",
              "      const a = document.createElement('a');\n",
              "      a.href = window.URL.createObjectURL(blob);\n",
              "      a.download = filename;\n",
              "      div.appendChild(a);\n",
              "      a.click();\n",
              "      div.remove();\n",
              "    }\n",
              "  "
            ]
          },
          "metadata": {}
        },
        {
          "output_type": "display_data",
          "data": {
            "text/plain": [
              "<IPython.core.display.Javascript object>"
            ],
            "application/javascript": [
              "download(\"download_31f3cc0a-3e64-4239-85a8-990e8b108c00\", \"insert_statements.csv\", 256205)"
            ]
          },
          "metadata": {}
        }
      ]
    },
    {
      "cell_type": "markdown",
      "source": [
        "# INSERT_STATEMENTS.CSV\n"
      ],
      "metadata": {
        "id": "IgDIoEo8Xs7N"
      }
    },
    {
      "cell_type": "code",
      "source": [
        "from google.colab import files\n",
        "import pandas as pd\n",
        "import csv\n",
        "\n",
        "# Paso 1: Leer el archivo CSV\n",
        "df = pd.read_csv('usuarios.csv')\n",
        "\n",
        "# Paso 2: Convertir los datos de fecha al formato adecuado\n",
        "df['FECHA_REG'] = pd.to_datetime(df['FECHA_REG']).dt.strftime('%Y-%m-%d')\n",
        "df['FECHA_ACT'] = pd.to_datetime(df['FECHA_ACT'], errors='coerce').dt.strftime('%Y-%m-%d')\n",
        "\n",
        "# Paso 3: Convertir los datos a sentencias SQL `INSERT INTO`\n",
        "table_name = 'USUARIO'\n",
        "columns = ', '.join(df.columns)\n",
        "\n",
        "insert_statements = []\n",
        "for index, row in df.iterrows():\n",
        "    values = []\n",
        "    for col in df.columns:\n",
        "        value = row[col]\n",
        "        if pd.isna(value):\n",
        "            value = 'NULL'\n",
        "        elif pd.api.types.is_string_dtype(df[col]) or pd.api.types.is_numeric_dtype(df[col]):\n",
        "            value = f\"'{value}'\"\n",
        "        elif pd.api.types.is_datetime64_any_dtype(df[col]):\n",
        "            # Incluir TO_DATE en la cadena SQL para campos de fecha\n",
        "            #value = f\"'TO_DATE({value}, ''YYYY-MM-DD'')'\" if value else 'NULL'  # TO_DATE solo si no es NULL\n",
        "            #value = f\"'TO_DATE(\\'{value}\\', \\'YYYY-MM-DD\\')'\" if value else 'NULL'  # TO_DATE solo si no es NULL\n",
        "            #value = f\"TO_DATE('{value}', 'YYYY-MM-DD')\" if value else 'NULL'  # TO_DATE solo si no es NULL\n",
        "            #value = \"'TO_DATE(\" + value + \", ''YYYY-MM-DD'')'\" if value else 'NULL'\n",
        "            #value = f\"'TO_DATE({value}, ''YYYY-MM-DD'')'\" if value else 'NULL'\n",
        "            value = f\"TO_DATE('{row[col]}', 'YYYY-MM-DD')\" if pd.notnull(row[col]) else 'NULL'\n",
        "        else:\n",
        "            value = f\"'{value}'\"\n",
        "        values.append(value)\n",
        "    values_str = ', '.join(values)\n",
        "    insert_statement = f\"INSERT INTO {table_name} ({columns}) VALUES ({values_str});\"\n",
        "    insert_statements.append(insert_statement)\n",
        "\n",
        "# Paso 4: Exportar las sentencias SQL a un nuevo archivo CSV\n",
        "with open('insert_statements.csv', 'w', newline='') as file:\n",
        "    writer = csv.writer(file)\n",
        "    for statement in insert_statements:\n",
        "        writer.writerow([statement])\n",
        "\n",
        "# Paso 5: Descargar el archivo resultante\n",
        "files.download('insert_statements.csv')"
      ],
      "metadata": {
        "colab": {
          "base_uri": "https://localhost:8080/",
          "height": 17
        },
        "id": "pr-FEJ7LU_-j",
        "outputId": "2c849b53-e349-47f1-faaa-e75501afefca"
      },
      "execution_count": null,
      "outputs": [
        {
          "output_type": "display_data",
          "data": {
            "text/plain": [
              "<IPython.core.display.Javascript object>"
            ],
            "application/javascript": [
              "\n",
              "    async function download(id, filename, size) {\n",
              "      if (!google.colab.kernel.accessAllowed) {\n",
              "        return;\n",
              "      }\n",
              "      const div = document.createElement('div');\n",
              "      const label = document.createElement('label');\n",
              "      label.textContent = `Downloading \"${filename}\": `;\n",
              "      div.appendChild(label);\n",
              "      const progress = document.createElement('progress');\n",
              "      progress.max = size;\n",
              "      div.appendChild(progress);\n",
              "      document.body.appendChild(div);\n",
              "\n",
              "      const buffers = [];\n",
              "      let downloaded = 0;\n",
              "\n",
              "      const channel = await google.colab.kernel.comms.open(id);\n",
              "      // Send a message to notify the kernel that we're ready.\n",
              "      channel.send({})\n",
              "\n",
              "      for await (const message of channel.messages) {\n",
              "        // Send a message to notify the kernel that we're ready.\n",
              "        channel.send({})\n",
              "        if (message.buffers) {\n",
              "          for (const buffer of message.buffers) {\n",
              "            buffers.push(buffer);\n",
              "            downloaded += buffer.byteLength;\n",
              "            progress.value = downloaded;\n",
              "          }\n",
              "        }\n",
              "      }\n",
              "      const blob = new Blob(buffers, {type: 'application/binary'});\n",
              "      const a = document.createElement('a');\n",
              "      a.href = window.URL.createObjectURL(blob);\n",
              "      a.download = filename;\n",
              "      div.appendChild(a);\n",
              "      a.click();\n",
              "      div.remove();\n",
              "    }\n",
              "  "
            ]
          },
          "metadata": {}
        },
        {
          "output_type": "display_data",
          "data": {
            "text/plain": [
              "<IPython.core.display.Javascript object>"
            ],
            "application/javascript": [
              "download(\"download_6cdb4a8a-2b81-4310-aac6-0d593ff76792\", \"insert_statements.csv\", 3763)"
            ]
          },
          "metadata": {}
        }
      ]
    },
    {
      "cell_type": "markdown",
      "source": [
        "# USUARIOS.SQL\n"
      ],
      "metadata": {
        "id": "2cEDNTiVurDM"
      }
    },
    {
      "cell_type": "code",
      "source": [
        "import pandas as pd\n",
        "\n",
        "# Leer el archivo CSV\n",
        "df = pd.read_csv('usuarios.csv')\n",
        "\n",
        "# Convertir las fechas al formato deseado\n",
        "df['FECHA_REG'] = \"TO_DATE('\" + df['FECHA_REG'] + \"', 'YYYY-MM-DD')\"\n",
        "df['FECHA_ACT'] = df['FECHA_ACT'].apply(lambda x: \"NULL\" if pd.isnull(x) else \"TO_DATE('\" + x + \"', 'YYYY-MM-DD')\")\n",
        "\n",
        "# Generar el script de inserción\n",
        "with open('usuarios.sql', 'w') as file:\n",
        "    for index, row in df.iterrows():\n",
        "        insert_statement = f\"INSERT INTO USUARIO (ID_USUARIO, NOMBRES, APELLIDOS, DNI, EMAIL, GENERO, PASSWORD, FECHA_REG, FECHA_ACT) VALUES ('{row['ID_USUARIO']}', '{row['NOMBRES']}', '{row['APELLIDOS']}', '{row['DNI']}', '{row['EMAIL']}', '{row['GENERO']}', '{row['PASSWORD']}', {row['FECHA_REG']}, {row['FECHA_ACT']});\\n\"\n",
        "        file.write(insert_statement)"
      ],
      "metadata": {
        "id": "2cgXMJWnqFQp"
      },
      "execution_count": null,
      "outputs": []
    },
    {
      "cell_type": "markdown",
      "source": [
        "# ROL.SQL"
      ],
      "metadata": {
        "id": "ufEvoaqPut1X"
      }
    },
    {
      "cell_type": "code",
      "source": [
        "import pandas as pd\n",
        "\n",
        "# Leer el archivo CSV\n",
        "df = pd.read_csv('roles.csv')\n",
        "\n",
        "# Generar el script de inserción\n",
        "with open('roles.sql', 'w') as file:\n",
        "    for index, row in df.iterrows():\n",
        "        insert_statement = f\"INSERT INTO ROL (ID_ROL, NOMBRE) VALUES ('{row['ID_ROL']}', '{row['NOMBRE']}');\\n\"\n",
        "        file.write(insert_statement)"
      ],
      "metadata": {
        "id": "oE0eBDMJuvS0"
      },
      "execution_count": null,
      "outputs": []
    },
    {
      "cell_type": "markdown",
      "source": [
        "# USUARIOS_ROL.SQL"
      ],
      "metadata": {
        "id": "QFMxNjNvuvsT"
      }
    },
    {
      "cell_type": "code",
      "source": [
        "import pandas as pd\n",
        "\n",
        "# Leer el archivo CSV\n",
        "df = pd.read_csv('usuario_rol.csv')\n",
        "\n",
        "# Generar el script de inserción\n",
        "with open('usuario_rol.sql', 'w') as file:\n",
        "    for index, row in df.iterrows():\n",
        "        insert_statement = f\"INSERT INTO USUARIO_ROL (USUARIO_ID, ROL_ID) VALUES ('{row['USUARIO_ID']}', '{row['ROL_ID']}');\\n\"\n",
        "        file.write(insert_statement)"
      ],
      "metadata": {
        "id": "Brt--Zbcu3Km"
      },
      "execution_count": null,
      "outputs": []
    },
    {
      "cell_type": "markdown",
      "source": [
        "# CATEGORIA.SQL"
      ],
      "metadata": {
        "id": "u_29lswHxXuR"
      }
    },
    {
      "cell_type": "code",
      "source": [
        "import pandas as pd\n",
        "\n",
        "# Leer el archivo CSV\n",
        "df = pd.read_csv('categoria.csv')\n",
        "\n",
        "# Convertir las fechas al formato deseado\n",
        "df['FECHA_REG'] = \"TO_DATE('\" + df['FECHA_REG'] + \"', 'YYYY-MM-DD')\"\n",
        "df['FECHA_ACT'] = df['FECHA_ACT'].apply(lambda x: \"NULL\" if pd.isnull(x) else \"TO_DATE('\" + x + \"', 'YYYY-MM-DD')\")\n",
        "\n",
        "# Generar el script de inserción\n",
        "with open('categoria.sql', 'w') as file:\n",
        "    for index, row in df.iterrows():\n",
        "        insert_statement = f\"INSERT INTO CATEGORIA (ID_CATEGORIA, NOMBRE, DESCRIPCION, FECHA_REG, FECHA_ACT) VALUES ('{row['ID_CATEGORIA']}', '{row['NOMBRE']}', '{row['DESCRIPCION']}', {row['FECHA_REG']}, {row['FECHA_ACT']});\\n\"\n",
        "        file.write(insert_statement)"
      ],
      "metadata": {
        "id": "3Na4FlFdxX5Q"
      },
      "execution_count": null,
      "outputs": []
    },
    {
      "cell_type": "markdown",
      "source": [
        "# PRODUCTO.SQL"
      ],
      "metadata": {
        "id": "4gboMfDdxbtX"
      }
    },
    {
      "cell_type": "code",
      "source": [
        "import pandas as pd\n",
        "\n",
        "# Leer el archivo CSV\n",
        "df = pd.read_csv('producto.csv')\n",
        "\n",
        "# Convertir las fechas al formato deseado\n",
        "df['FECHA_REG'] = \"TO_DATE('\" + df['FECHA_REG'] + \"', 'YYYY-MM-DD')\"\n",
        "df['FECHA_ACT'] = df['FECHA_ACT'].apply(lambda x: \"NULL\" if pd.isnull(x) else \"TO_DATE('\" + x + \"', 'YYYY-MM-DD')\")\n",
        "\n",
        "# Generar el script de inserción\n",
        "with open('producto.sql', 'w') as file:\n",
        "    for index, row in df.iterrows():\n",
        "        insert_statement = f\"INSERT INTO PRODUCTO (ID_PRODUCTO, CATEGORIA_ID, NOMBRE, DESCRIPCION, IMAGEN, PRECIO, STOCK, FECHA_REG, FECHA_ACT) VALUES ('{row['ID_PRODUCTO']}', '{row['CATEGORIA_ID']}', '{row['NOMBRE']}', '{row['DESCRIPCION']}', '{row['IMAGEN']}', '{row['PRECIO']}', '{row['STOCK']}', {row['FECHA_REG']}, {row['FECHA_ACT']});\\n\"\n",
        "        file.write(insert_statement)"
      ],
      "metadata": {
        "id": "NZ0IDBnXxd5k"
      },
      "execution_count": null,
      "outputs": []
    },
    {
      "cell_type": "markdown",
      "source": [
        "# PROFORMA.SQL"
      ],
      "metadata": {
        "id": "_D1neiYlxeNT"
      }
    },
    {
      "cell_type": "code",
      "source": [
        "import pandas as pd\n",
        "\n",
        "# Leer el archivo CSV\n",
        "df = pd.read_csv('proforma.csv')\n",
        "\n",
        "# Convertir las fechas al formato deseado\n",
        "df['FECHA_REG'] = \"TO_DATE('\" + df['FECHA_REG'] + \"', 'YYYY-MM-DD')\"\n",
        "\n",
        "# Generar el script de inserción\n",
        "with open('proforma.sql', 'w') as file:\n",
        "    for index, row in df.iterrows():\n",
        "        insert_statement = f\"INSERT INTO PROFORMA (ID_PROFORMA, USUARIO_ID, PRODUCTO_ID, CANTIDAD, PRECIO, STATUS, FECHA_REG) VALUES ('{row['ID_PROFORMA']}', '{row['USUARIO_ID']}', '{row['PRODUCTO_ID']}', '{row['CANTIDAD']}', '{row['PRECIO']}', '{row['STATUS']}', {row['FECHA_REG']});\\n\"\n",
        "        file.write(insert_statement)"
      ],
      "metadata": {
        "id": "nie8-_EtxfpX"
      },
      "execution_count": null,
      "outputs": []
    },
    {
      "cell_type": "markdown",
      "source": [
        "# PAGO.SQL"
      ],
      "metadata": {
        "id": "vBI95F1Axf_Q"
      }
    },
    {
      "cell_type": "code",
      "source": [
        "import pandas as pd\n",
        "\n",
        "# Leer el archivo CSV\n",
        "df = pd.read_csv('pago.csv')\n",
        "\n",
        "# Convertir las fechas al formato deseado\n",
        "df['FECHA_PAGO'] = \"TO_DATE('\" + df['FECHA_PAGO'] + \"', 'YYYY-MM-DD')\"\n",
        "\n",
        "# Generar el script de inserción\n",
        "with open('pago.sql', 'w') as file:\n",
        "    for index, row in df.iterrows():\n",
        "        insert_statement = f\"INSERT INTO PAGO (ID_PAGO, USUARIO_ID, NOMBRE_TARJETA, NUMERO_TARJETA, MONTO_TOTAL, FECHA_PAGO) VALUES ('{row['ID_PAGO']}', '{row['USUARIO_ID']}', '{row['NOMBRE_TARJETA']}', '{row['NUMERO_TARJETA']}', '{row['MONTO_TOTAL']}', {row['FECHA_PAGO']});\\n\"\n",
        "        file.write(insert_statement)"
      ],
      "metadata": {
        "id": "1t1F-GUNxiyp"
      },
      "execution_count": null,
      "outputs": []
    },
    {
      "cell_type": "markdown",
      "source": [
        "# PEDIDO.SQL"
      ],
      "metadata": {
        "id": "hm_pCz2hxkwP"
      }
    },
    {
      "cell_type": "code",
      "source": [
        "import pandas as pd\n",
        "\n",
        "# Leer el archivo CSV\n",
        "df = pd.read_csv('pedido.csv')\n",
        "\n",
        "# Generar el script de inserción\n",
        "with open('pedido.sql', 'w') as file:\n",
        "    for index, row in df.iterrows():\n",
        "        insert_statement = f\"INSERT INTO PEDIDO (ID_PEDIDO, USUARIO_ID, PAGO_ID, STATUS) VALUES ('{row['ID_PEDIDO']}', '{row['USUARIO_ID']}', '{row['PAGO_ID']}', '{row['STATUS']}');\\n\"\n",
        "        file.write(insert_statement)"
      ],
      "metadata": {
        "id": "hMImSgZvxmz0"
      },
      "execution_count": null,
      "outputs": []
    },
    {
      "cell_type": "markdown",
      "source": [
        "# DETALLE_PEDIDO.SQL"
      ],
      "metadata": {
        "id": "k9h9OaBzxnJi"
      }
    },
    {
      "cell_type": "code",
      "source": [
        "import pandas as pd\n",
        "\n",
        "# Leer el archivo CSV\n",
        "df = pd.read_csv('detalle_pedido.csv')\n",
        "\n",
        "# Generar el script de inserción\n",
        "with open('detalle_pedido.sql', 'w') as file:\n",
        "    for index, row in df.iterrows():\n",
        "        insert_statement = f\"INSERT INTO DETALLE_PEDIDO (ID_DETALLE_PEDIDO, PEDIDO_ID, PRODUCTO_ID, CANTIDAD, PRECIO) VALUES ('{row['ID_DETALLE_PEDIDO']}', '{row['PEDIDO_ID']}', '{row['PRODUCTO_ID']}', '{row['CANTIDAD']}', '{row['PRECIO']}');\\n\"\n",
        "        file.write(insert_statement)"
      ],
      "metadata": {
        "id": "DUdSKgpoxqiM"
      },
      "execution_count": null,
      "outputs": []
    },
    {
      "cell_type": "code",
      "source": [],
      "metadata": {
        "id": "yBPOO59Q64Ni"
      },
      "execution_count": null,
      "outputs": []
    },
    {
      "cell_type": "markdown",
      "source": [
        "# TABLA ROL.CSV"
      ],
      "metadata": {
        "id": "AW1vW7aGN9V_"
      }
    },
    {
      "cell_type": "code",
      "source": [
        "from google.colab import files\n",
        "import pandas as pd\n",
        "import csv\n",
        "\n",
        "\n",
        "# Paso 1: Leer el archivo CSV\n",
        "df = pd.read_csv('rol.csv')\n",
        "\n",
        "# Paso 2: Convertir los datos a sentencias SQL `INSERT INTO`\n",
        "table_name = 'ROL'\n",
        "columns = ', '.join(df.columns)\n",
        "\n",
        "insert_statements = []\n",
        "for index, row in df.iterrows():\n",
        "    values = []\n",
        "    for col in df.columns:\n",
        "        value = row[col]\n",
        "        if pd.isna(value):\n",
        "            value = 'NULL'\n",
        "        #elif col == 'ID_USUARIO':  # Si la columna es ID_USUARIO, poner el valor entre comillas\n",
        "        #    value = f\"'{value}'\"\n",
        "        elif pd.api.types.is_string_dtype(df[col]):\n",
        "            value = f\"'{value}'\"\n",
        "        elif pd.api.types.is_numeric_dtype(df[col]):\n",
        "            value = f\"'{value}'\"\n",
        "        elif pd.api.types.is_datetime64_any_dtype(df[col]):\n",
        "            value = f\"TO_DATE('{value}', 'YYYY-MM-DD')\"\n",
        "        else:\n",
        "            value = f\"'{value}'\"\n",
        "        values.append(value)\n",
        "    values_str = ', '.join(values)\n",
        "    insert_statement = f\"INSERT INTO {table_name} ({columns}) VALUES ({values_str});\"\n",
        "    insert_statements.append(insert_statement)\n",
        "\n",
        "# Paso 3: Exportar las sentencias SQL a un nuevo archivo CSV\n",
        "with open('rol.csv', 'w', newline='') as file:\n",
        "    writer = csv.writer(file)\n",
        "    for statement in insert_statements:\n",
        "        writer.writerow([statement])\n",
        "\n",
        "# Descargar el archivo resultante\n",
        "files.download('rol.csv')"
      ],
      "metadata": {
        "id": "dCHrCbMuN9kG"
      },
      "execution_count": null,
      "outputs": []
    },
    {
      "cell_type": "markdown",
      "source": [
        "# TABLA USUARIO ROL.CSV\n"
      ],
      "metadata": {
        "id": "r4phDib3OAgA"
      }
    },
    {
      "cell_type": "code",
      "source": [
        "from google.colab import files\n",
        "import pandas as pd\n",
        "import csv\n",
        "\n",
        "\n",
        "# Paso 1: Leer el archivo CSV\n",
        "df = pd.read_csv('usuario_rol.csv')\n",
        "\n",
        "# Paso 2: Convertir los datos a sentencias SQL `INSERT INTO`\n",
        "table_name = 'USUARIO_ROL'\n",
        "columns = ', '.join(df.columns)\n",
        "\n",
        "insert_statements = []\n",
        "for index, row in df.iterrows():\n",
        "    values = []\n",
        "    for col in df.columns:\n",
        "        value = row[col]\n",
        "        if pd.isna(value):\n",
        "            value = 'NULL'\n",
        "        #elif col == 'ID_USUARIO':  # Si la columna es ID_USUARIO, poner el valor entre comillas\n",
        "        #    value = f\"'{value}'\"\n",
        "        elif pd.api.types.is_string_dtype(df[col]):\n",
        "            value = f\"'{value}'\"\n",
        "        elif pd.api.types.is_numeric_dtype(df[col]):\n",
        "            value = f\"'{value}'\"\n",
        "        elif pd.api.types.is_datetime64_any_dtype(df[col]):\n",
        "            value = f\"TO_DATE('{value}', 'YYYY-MM-DD')\"\n",
        "        else:\n",
        "            value = f\"'{value}'\"\n",
        "        values.append(value)\n",
        "    values_str = ', '.join(values)\n",
        "    insert_statement = f\"INSERT INTO {table_name} ({columns}) VALUES ({values_str});\"\n",
        "    insert_statements.append(insert_statement)\n",
        "\n",
        "# Paso 3: Exportar las sentencias SQL a un nuevo archivo CSV\n",
        "with open('user_rol.csv', 'w', newline='') as file:\n",
        "    writer = csv.writer(file)\n",
        "    for statement in insert_statements:\n",
        "        writer.writerow([statement])\n",
        "\n",
        "# Descargar el archivo resultante\n",
        "files.download('user_rol.csv')"
      ],
      "metadata": {
        "id": "BWdMPsNrOAuZ"
      },
      "execution_count": null,
      "outputs": []
    }
  ]
}