{
  "nbformat": 4,
  "nbformat_minor": 0,
  "metadata": {
    "colab": {
      "provenance": []
    },
    "kernelspec": {
      "name": "python3",
      "display_name": "Python 3"
    },
    "language_info": {
      "name": "python"
    }
  },
  "cells": [
    {
      "cell_type": "markdown",
      "source": [
        "# DATA KATHI"
      ],
      "metadata": {
        "id": "vZx95tuD-Mw8"
      }
    },
    {
      "cell_type": "markdown",
      "source": [
        "# PARA USUARIO.SQL"
      ],
      "metadata": {
        "id": "6CEXqEmc-QRV"
      }
    },
    {
      "cell_type": "code",
      "source": [
        "import csv\n",
        "from datetime import datetime\n",
        "\n",
        "# Nombres de los archivos de entrada y salida\n",
        "archivo_csv = 'usuarios.csv'\n",
        "archivo_dat = 'usuarios.dat'\n",
        "\n",
        "# Función para transformar la fecha\n",
        "def transformar_fecha(fecha):\n",
        "    if fecha.lower() == 'none' or not fecha:\n",
        "        return \"\"\n",
        "    try:\n",
        "        fecha_obj = datetime.strptime(fecha, '%Y-%m-%d')\n",
        "        return fecha_obj.strftime('%y%m%d')\n",
        "    except ValueError:\n",
        "        return fecha  # Devolver fecha original si no se puede convertir\n",
        "\n",
        "# Leer el archivo CSV\n",
        "with open(archivo_csv, 'r', newline='', encoding='utf-8') as csvfile:\n",
        "    lector_csv = csv.reader(csvfile)\n",
        "    encabezados = next(lector_csv)  # Leer los encabezados\n",
        "\n",
        "    # Procesar las filas y escribir en un archivo .DAT\n",
        "    with open(archivo_dat, 'w', newline='', encoding='utf-8') as datfile:\n",
        "        for fila in lector_csv:\n",
        "            # Transformar las fechas\n",
        "            fila[7] = transformar_fecha(fila[7])  # FECHA_REG\n",
        "            fila[8] = transformar_fecha(fila[8])  # FECHA_ACT\n",
        "\n",
        "            # Reemplazar valores 'None' con cadena vacía\n",
        "            fila = [\"\" if valor.lower() == 'none' else valor for valor in fila]\n",
        "\n",
        "            # Crear la línea de salida con el formato deseado\n",
        "            linea_salida = ', '.join(fila)\n",
        "            datfile.write(linea_salida + '\\n')\n",
        "\n",
        "print(f\"Archivo {archivo_dat} creado exitosamente.\")"
      ],
      "metadata": {
        "colab": {
          "base_uri": "https://localhost:8080/"
        },
        "id": "aTCShflN-LRo",
        "outputId": "4271912c-0dfc-4eae-bc7b-da8ef8976b69"
      },
      "execution_count": 10,
      "outputs": [
        {
          "output_type": "stream",
          "name": "stdout",
          "text": [
            "Archivo usuarios.dat creado exitosamente.\n"
          ]
        }
      ]
    },
    {
      "cell_type": "markdown",
      "source": [
        "# PARA ROL.SQL"
      ],
      "metadata": {
        "id": "ww8HmfaF-TSS"
      }
    },
    {
      "cell_type": "code",
      "source": [
        "import csv\n",
        "\n",
        "# Nombre de los archivos de entrada y salida\n",
        "archivo_csv = 'roles.csv'\n",
        "archivo_dat = 'roles.dat'\n",
        "\n",
        "# Leer el archivo CSV\n",
        "with open(archivo_csv, 'r', newline='', encoding='utf-8') as csvfile:\n",
        "    lector_csv = csv.reader(csvfile)\n",
        "    encabezados = next(lector_csv)  # Leer los encabezados\n",
        "\n",
        "    # Abrir el archivo .DAT para escribir\n",
        "    with open(archivo_dat, 'w', newline='', encoding='utf-8') as datfile:\n",
        "        for fila in lector_csv:\n",
        "            # Crear la línea de salida con el formato deseado (coma seguida de un espacio)\n",
        "            linea_salida = ', '.join(fila)\n",
        "            datfile.write(linea_salida + '\\n')\n",
        "\n",
        "print(f\"Archivo {archivo_dat} creado exitosamente.\")"
      ],
      "metadata": {
        "colab": {
          "base_uri": "https://localhost:8080/"
        },
        "id": "xI0We5qW-Tuh",
        "outputId": "921f9ec5-42e7-48c5-b93b-4a6d1b248827"
      },
      "execution_count": 2,
      "outputs": [
        {
          "output_type": "stream",
          "name": "stdout",
          "text": [
            "Archivo roles.dat creado exitosamente.\n"
          ]
        }
      ]
    },
    {
      "cell_type": "markdown",
      "source": [
        "# PARA USUARIO_ROL.SQL"
      ],
      "metadata": {
        "id": "OElJlq2w-WzJ"
      }
    },
    {
      "cell_type": "code",
      "source": [
        "import csv\n",
        "\n",
        "# Nombres de los archivos de entrada y salida\n",
        "archivo_csv = 'usuario_rol.csv'\n",
        "archivo_dat = 'usuario_rol.dat'\n",
        "\n",
        "# Leer el archivo CSV\n",
        "with open(archivo_csv, 'r', newline='', encoding='utf-8') as csvfile:\n",
        "    lector_csv = csv.reader(csvfile)\n",
        "    encabezados = next(lector_csv)  # Leer los encabezados y omitir en la salida\n",
        "\n",
        "    # Abrir el archivo .DAT para escribir\n",
        "    with open(archivo_dat, 'w', newline='', encoding='utf-8') as datfile:\n",
        "        for fila in lector_csv:\n",
        "            # Crear la línea de salida con el formato deseado (coma seguida de un espacio)\n",
        "            linea_salida = ', '.join(fila)\n",
        "            datfile.write(linea_salida + '\\n')\n",
        "\n",
        "print(f\"Archivo {archivo_dat} creado exitosamente.\")"
      ],
      "metadata": {
        "colab": {
          "base_uri": "https://localhost:8080/"
        },
        "id": "l5j_AAeo-W-D",
        "outputId": "8f9d2542-417f-42d5-f7a7-04ef95e41787"
      },
      "execution_count": 3,
      "outputs": [
        {
          "output_type": "stream",
          "name": "stdout",
          "text": [
            "Archivo usuario_rol.dat creado exitosamente.\n"
          ]
        }
      ]
    },
    {
      "cell_type": "markdown",
      "source": [
        "# PARA CATEGORIA.SQL"
      ],
      "metadata": {
        "id": "oCFYkgb2-j65"
      }
    },
    {
      "cell_type": "code",
      "source": [
        "import csv\n",
        "from datetime import datetime\n",
        "\n",
        "# Función para transformar la fecha\n",
        "def transformar_fecha(fecha):\n",
        "    if fecha.lower() == 'none' or not fecha:\n",
        "        return \"\"\n",
        "    try:\n",
        "        fecha_obj = datetime.strptime(fecha, '%Y-%m-%d')\n",
        "        return fecha_obj.strftime('%y%m%d')\n",
        "    except ValueError:\n",
        "        return fecha  # Devolver fecha original si no se puede convertir\n",
        "\n",
        "# Nombre de los archivos de entrada y salida\n",
        "archivo_csv = 'categoria.csv'\n",
        "archivo_dat = 'categoria.dat'\n",
        "\n",
        "# Leer el archivo CSV\n",
        "with open(archivo_csv, 'r', newline='', encoding='utf-8') as csvfile:\n",
        "    lector_csv = csv.reader(csvfile)\n",
        "    encabezados = next(lector_csv)  # Leer los encabezados y omitir en la salida\n",
        "\n",
        "    # Abrir el archivo .DAT para escribir\n",
        "    with open(archivo_dat, 'w', newline='', encoding='utf-8') as datfile:\n",
        "        for fila in lector_csv:\n",
        "            # Transformar las fechas\n",
        "            fila[3] = transformar_fecha(fila[3])  # FECHA_REG\n",
        "            fila[4] = transformar_fecha(fila[4])  # FECHA_ACT\n",
        "\n",
        "            # Crear la línea de salida con el formato deseado (coma seguida de un espacio)\n",
        "            linea_salida = ', '.join(fila)\n",
        "            datfile.write(linea_salida + '\\n')\n",
        "\n",
        "print(f\"Archivo {archivo_dat} creado exitosamente.\")"
      ],
      "metadata": {
        "colab": {
          "base_uri": "https://localhost:8080/"
        },
        "id": "nuaP6hSt-kBi",
        "outputId": "9d08a3df-3c91-4375-d258-b6046dddc4bd"
      },
      "execution_count": 4,
      "outputs": [
        {
          "output_type": "stream",
          "name": "stdout",
          "text": [
            "Archivo categoria.dat creado exitosamente.\n"
          ]
        }
      ]
    },
    {
      "cell_type": "markdown",
      "source": [
        "# PARA PRODUCTO.SQL"
      ],
      "metadata": {
        "id": "XutuO6zJ-mRO"
      }
    },
    {
      "cell_type": "code",
      "source": [
        "import csv\n",
        "from datetime import datetime\n",
        "\n",
        "# Función para transformar la fecha\n",
        "def transformar_fecha(fecha):\n",
        "    if fecha.lower() == 'none' or not fecha:\n",
        "        return \"\"\n",
        "    try:\n",
        "        fecha_obj = datetime.strptime(fecha, '%Y-%m-%d')\n",
        "        return fecha_obj.strftime('%y%m%d')\n",
        "    except ValueError:\n",
        "        return fecha  # Devolver fecha original si no se puede convertir\n",
        "\n",
        "# Nombre de los archivos de entrada y salida\n",
        "archivo_csv = 'producto.csv'\n",
        "archivo_dat = 'producto.dat'\n",
        "\n",
        "# Leer el archivo CSV\n",
        "with open(archivo_csv, 'r', newline='', encoding='utf-8') as csvfile:\n",
        "    lector_csv = csv.reader(csvfile)\n",
        "    encabezados = next(lector_csv)  # Leer los encabezados y omitir en la salida\n",
        "\n",
        "    # Abrir el archivo .DAT para escribir\n",
        "    with open(archivo_dat, 'w', newline='', encoding='utf-8') as datfile:\n",
        "        for fila in lector_csv:\n",
        "            # Transformar las fechas\n",
        "            fila[7] = transformar_fecha(fila[7])  # FECHA_REG\n",
        "            fila[8] = transformar_fecha(fila[8])  # FECHA_ACT\n",
        "\n",
        "            # Crear la línea de salida con el formato deseado (coma seguida de un espacio)\n",
        "            linea_salida = ', '.join(fila)\n",
        "            datfile.write(linea_salida + '\\n')\n",
        "\n",
        "print(f\"Archivo {archivo_dat} creado exitosamente.\")"
      ],
      "metadata": {
        "colab": {
          "base_uri": "https://localhost:8080/"
        },
        "id": "NS7JdDks-mdf",
        "outputId": "6a28a25e-ceff-475e-b013-5e12189b7931"
      },
      "execution_count": 5,
      "outputs": [
        {
          "output_type": "stream",
          "name": "stdout",
          "text": [
            "Archivo producto.dat creado exitosamente.\n"
          ]
        }
      ]
    },
    {
      "cell_type": "markdown",
      "source": [
        "# PARA PROFORMA.SQL"
      ],
      "metadata": {
        "id": "OOguZO9q-otx"
      }
    },
    {
      "cell_type": "code",
      "source": [
        "import csv\n",
        "from datetime import datetime\n",
        "\n",
        "# Función para convertir la fecha al formato YYMMDD\n",
        "def convertir_fecha(fecha):\n",
        "    if fecha.lower() == 'none' or not fecha:\n",
        "        return \"\"\n",
        "    try:\n",
        "        fecha_convertida = datetime.strptime(fecha, '%Y-%m-%d')\n",
        "        return fecha_convertida.strftime('%y%m%d')\n",
        "    except ValueError:\n",
        "        return fecha  # Devolver fecha original si no se puede convertir\n",
        "\n",
        "# Nombre de los archivos\n",
        "archivo_csv = 'proforma.csv'\n",
        "archivo_dat = 'proforma.dat'\n",
        "\n",
        "# Leer el archivo CSV y convertirlo a DAT\n",
        "with open(archivo_csv, 'r', newline='', encoding='utf-8') as archivo_entrada:\n",
        "    lector_csv = csv.reader(archivo_entrada)\n",
        "    encabezados = next(lector_csv)  # Leer encabezados y omitirlos en la salida\n",
        "\n",
        "    # Abrir el archivo .DAT para escritura\n",
        "    with open(archivo_dat, 'w', newline='', encoding='utf-8') as archivo_salida:\n",
        "        for fila in lector_csv:\n",
        "            # Convertir la fecha al formato YYMMDD\n",
        "            fila[6] = convertir_fecha(fila[6])  # FECHA_REG\n",
        "\n",
        "            # Crear la línea de salida\n",
        "            linea_salida = ', '.join(fila)\n",
        "            archivo_salida.write(linea_salida + '\\n')\n",
        "\n",
        "print(f\"Archivo {archivo_dat} creado exitosamente.\")"
      ],
      "metadata": {
        "colab": {
          "base_uri": "https://localhost:8080/"
        },
        "id": "xVXEVIl6-o0k",
        "outputId": "a37c996d-69b8-4876-93c6-679ab3155196"
      },
      "execution_count": 6,
      "outputs": [
        {
          "output_type": "stream",
          "name": "stdout",
          "text": [
            "Archivo proforma.dat creado exitosamente.\n"
          ]
        }
      ]
    },
    {
      "cell_type": "markdown",
      "source": [
        "# PARA PAGO.SQL"
      ],
      "metadata": {
        "id": "eR3nB-nu-r87"
      }
    },
    {
      "cell_type": "code",
      "source": [
        "import csv\n",
        "from datetime import datetime\n",
        "\n",
        "# Función para convertir la fecha al formato YYMMDD\n",
        "def convertir_fecha(fecha):\n",
        "    if fecha.lower() == 'none' or not fecha:\n",
        "        return \"\"\n",
        "    try:\n",
        "        fecha_convertida = datetime.strptime(fecha, '%Y-%m-%d')\n",
        "        return fecha_convertida.strftime('%y%m%d')\n",
        "    except ValueError:\n",
        "        return fecha  # Devolver fecha original si no se puede convertir\n",
        "\n",
        "# Nombre de los archivos\n",
        "archivo_csv = 'pago.csv'\n",
        "archivo_dat = 'pago.dat'\n",
        "\n",
        "# Leer el archivo CSV y convertirlo a DAT\n",
        "with open(archivo_csv, 'r', newline='', encoding='utf-8') as archivo_entrada:\n",
        "    lector_csv = csv.reader(archivo_entrada)\n",
        "    encabezados = next(lector_csv)  # Leer encabezados y omitirlos en la salida\n",
        "\n",
        "    # Abrir el archivo .DAT para escritura\n",
        "    with open(archivo_dat, 'w', newline='', encoding='utf-8') as archivo_salida:\n",
        "        for fila in lector_csv:\n",
        "            # Convertir la fecha al formato YYMMDD\n",
        "            fila[5] = convertir_fecha(fila[5])  # FECHA_PAGO\n",
        "\n",
        "            # Crear la línea de salida\n",
        "            linea_salida = ', '.join(fila)\n",
        "            archivo_salida.write(linea_salida + '\\n')\n",
        "\n",
        "print(f\"Archivo {archivo_dat} creado exitosamente.\")"
      ],
      "metadata": {
        "colab": {
          "base_uri": "https://localhost:8080/"
        },
        "id": "ZGSXxTTs-sGj",
        "outputId": "7a1daf6c-4c67-4cf0-d985-444c48d6e19b"
      },
      "execution_count": 7,
      "outputs": [
        {
          "output_type": "stream",
          "name": "stdout",
          "text": [
            "Archivo pago.dat creado exitosamente.\n"
          ]
        }
      ]
    },
    {
      "cell_type": "markdown",
      "source": [
        "# PARA PEDIDO.SQL"
      ],
      "metadata": {
        "id": "L-AGYVYs-uiQ"
      }
    },
    {
      "cell_type": "code",
      "source": [
        "import csv\n",
        "\n",
        "# Nombre de los archivos\n",
        "archivo_csv = 'pedido.csv'\n",
        "archivo_dat = 'pedido.dat'\n",
        "\n",
        "# Leer el archivo CSV y convertirlo a DAT\n",
        "with open(archivo_csv, 'r', newline='', encoding='utf-8') as archivo_entrada:\n",
        "    lector_csv = csv.reader(archivo_entrada)\n",
        "    encabezados = next(lector_csv)  # Leer encabezados y omitirlos en la salida\n",
        "\n",
        "    # Abrir el archivo .DAT para escritura\n",
        "    with open(archivo_dat, 'w', newline='', encoding='utf-8') as archivo_salida:\n",
        "        for fila in lector_csv:\n",
        "            # Crear la línea de salida\n",
        "            linea_salida = ', '.join(fila)\n",
        "            archivo_salida.write(linea_salida + '\\n')\n",
        "\n",
        "print(f\"Archivo {archivo_dat} creado exitosamente.\")"
      ],
      "metadata": {
        "colab": {
          "base_uri": "https://localhost:8080/"
        },
        "id": "CoopCdXA-uqA",
        "outputId": "7c31133c-8575-4f5a-bce8-ee02965f92ff"
      },
      "execution_count": 8,
      "outputs": [
        {
          "output_type": "stream",
          "name": "stdout",
          "text": [
            "Archivo pedido.dat creado exitosamente.\n"
          ]
        }
      ]
    },
    {
      "cell_type": "markdown",
      "source": [
        "# PARA DETALLE_PEDIDO.SQL"
      ],
      "metadata": {
        "id": "Zcc-_IU6-xSC"
      }
    },
    {
      "cell_type": "code",
      "source": [
        "import csv\n",
        "\n",
        "# Nombre de los archivos\n",
        "archivo_csv = 'detalle_pedido.csv'\n",
        "archivo_dat = 'detalle_pedido.dat'\n",
        "\n",
        "# Leer el archivo CSV y convertirlo a DAT\n",
        "with open(archivo_csv, 'r', newline='', encoding='utf-8') as archivo_entrada:\n",
        "    lector_csv = csv.reader(archivo_entrada)\n",
        "    encabezados = next(lector_csv)  # Leer encabezados y omitirlos en la salida\n",
        "\n",
        "    # Abrir el archivo .DAT para escritura\n",
        "    with open(archivo_dat, 'w', newline='', encoding='utf-8') as archivo_salida:\n",
        "        for fila in lector_csv:\n",
        "            # Crear la línea de salida\n",
        "            linea_salida = ', '.join(fila)\n",
        "            archivo_salida.write(linea_salida + '\\n')\n",
        "\n",
        "print(f\"Archivo {archivo_dat} creado exitosamente.\")"
      ],
      "metadata": {
        "colab": {
          "base_uri": "https://localhost:8080/"
        },
        "id": "uVHu64Xv-xa6",
        "outputId": "69e52224-9c42-43a9-a624-c8547097f5cd"
      },
      "execution_count": 9,
      "outputs": [
        {
          "output_type": "stream",
          "name": "stdout",
          "text": [
            "Archivo detalle_pedido.dat creado exitosamente.\n"
          ]
        }
      ]
    }
  ]
}